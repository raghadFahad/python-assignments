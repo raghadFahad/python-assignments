{
 "cells": [
  {
   "cell_type": "code",
   "execution_count": 34,
   "metadata": {},
   "outputs": [],
   "source": [
    "\n",
    "import pandas as pd\n",
    "\n",
    "df = pd.read_csv('https://raw.githubusercontent.com/daniel-dc-cd/data_science/master/module_4_ML/data/seattle_weather_1948-2017.csv')\n",
    "\n",
    "numrows = 25549 # can be as large as 25549\n",
    "\n",
    "#create an empty dataframe to hold 100 values\n",
    "heuristic_df = pd.DataFrame({'yesterday':[0.0]*numrows,\n",
    "                             'today':[0.0]*numrows,\n",
    "                             'tomorrow':[0.0]*numrows,\n",
    "                             'guess':[False]*numrows, #logical guess\n",
    "                             'rain_tomorrow':[False]*numrows, #historical observation\n",
    "                             'correct':[False]*numrows, #TRUE if your guess matches the historical observation\n",
    "                             'true_positive':[False]*numrows, #TRUE If you said it would rain and it did\n",
    "                             'false_positive':[False]*numrows,#TRUE If you sait id would rain and it didn't\n",
    "                             'true_negative':[False]*numrows, #TRUE if you said it wouldn't rain and it didn't\n",
    "                             'false_negative':[False]*numrows}) #TRUE if you said it wouldn't raing and it did\n",
    "\n",
    "#sort columns for convience\n",
    "seq = ['yesterday',\n",
    "       'today',\n",
    "       'tomorrow',\n",
    "       'guess',\n",
    "       'rain_tomorrow',\n",
    "       'correct',\n",
    "       'true_positive',\n",
    "       'false_positive',\n",
    "       'true_negative',\n",
    "       'false_negative']\n",
    "heuristic_df = heuristic_df.reindex(columns=seq)"
   ]
  },
  {
   "cell_type": "code",
   "execution_count": 35,
   "metadata": {},
   "outputs": [
    {
     "data": {
      "text/html": [
       "<div>\n",
       "<style scoped>\n",
       "    .dataframe tbody tr th:only-of-type {\n",
       "        vertical-align: middle;\n",
       "    }\n",
       "\n",
       "    .dataframe tbody tr th {\n",
       "        vertical-align: top;\n",
       "    }\n",
       "\n",
       "    .dataframe thead th {\n",
       "        text-align: right;\n",
       "    }\n",
       "</style>\n",
       "<table border=\"1\" class=\"dataframe\">\n",
       "  <thead>\n",
       "    <tr style=\"text-align: right;\">\n",
       "      <th></th>\n",
       "      <th>DATE</th>\n",
       "      <th>PRCP</th>\n",
       "      <th>TMAX</th>\n",
       "      <th>TMIN</th>\n",
       "      <th>RAIN</th>\n",
       "    </tr>\n",
       "  </thead>\n",
       "  <tbody>\n",
       "    <tr>\n",
       "      <th>0</th>\n",
       "      <td>1948-01-01</td>\n",
       "      <td>0.47</td>\n",
       "      <td>51</td>\n",
       "      <td>42</td>\n",
       "      <td>True</td>\n",
       "    </tr>\n",
       "    <tr>\n",
       "      <th>1</th>\n",
       "      <td>1948-01-02</td>\n",
       "      <td>0.59</td>\n",
       "      <td>45</td>\n",
       "      <td>36</td>\n",
       "      <td>True</td>\n",
       "    </tr>\n",
       "    <tr>\n",
       "      <th>2</th>\n",
       "      <td>1948-01-03</td>\n",
       "      <td>0.42</td>\n",
       "      <td>45</td>\n",
       "      <td>35</td>\n",
       "      <td>True</td>\n",
       "    </tr>\n",
       "    <tr>\n",
       "      <th>3</th>\n",
       "      <td>1948-01-04</td>\n",
       "      <td>0.31</td>\n",
       "      <td>45</td>\n",
       "      <td>34</td>\n",
       "      <td>True</td>\n",
       "    </tr>\n",
       "    <tr>\n",
       "      <th>4</th>\n",
       "      <td>1948-01-05</td>\n",
       "      <td>0.17</td>\n",
       "      <td>45</td>\n",
       "      <td>32</td>\n",
       "      <td>True</td>\n",
       "    </tr>\n",
       "  </tbody>\n",
       "</table>\n",
       "</div>"
      ],
      "text/plain": [
       "         DATE  PRCP  TMAX  TMIN  RAIN\n",
       "0  1948-01-01  0.47    51    42  True\n",
       "1  1948-01-02  0.59    45    36  True\n",
       "2  1948-01-03  0.42    45    35  True\n",
       "3  1948-01-04  0.31    45    34  True\n",
       "4  1948-01-05  0.17    45    32  True"
      ]
     },
     "execution_count": 35,
     "metadata": {},
     "output_type": "execute_result"
    }
   ],
   "source": [
    "df.head()"
   ]
  },
  {
   "cell_type": "code",
   "execution_count": 36,
   "metadata": {},
   "outputs": [
    {
     "data": {
      "text/html": [
       "<div>\n",
       "<style scoped>\n",
       "    .dataframe tbody tr th:only-of-type {\n",
       "        vertical-align: middle;\n",
       "    }\n",
       "\n",
       "    .dataframe tbody tr th {\n",
       "        vertical-align: top;\n",
       "    }\n",
       "\n",
       "    .dataframe thead th {\n",
       "        text-align: right;\n",
       "    }\n",
       "</style>\n",
       "<table border=\"1\" class=\"dataframe\">\n",
       "  <thead>\n",
       "    <tr style=\"text-align: right;\">\n",
       "      <th></th>\n",
       "      <th>yesterday</th>\n",
       "      <th>today</th>\n",
       "      <th>tomorrow</th>\n",
       "      <th>guess</th>\n",
       "      <th>rain_tomorrow</th>\n",
       "      <th>correct</th>\n",
       "      <th>true_positive</th>\n",
       "      <th>false_positive</th>\n",
       "      <th>true_negative</th>\n",
       "      <th>false_negative</th>\n",
       "    </tr>\n",
       "  </thead>\n",
       "  <tbody>\n",
       "    <tr>\n",
       "      <th>0</th>\n",
       "      <td>0.0</td>\n",
       "      <td>0.0</td>\n",
       "      <td>0.0</td>\n",
       "      <td>False</td>\n",
       "      <td>False</td>\n",
       "      <td>False</td>\n",
       "      <td>False</td>\n",
       "      <td>False</td>\n",
       "      <td>False</td>\n",
       "      <td>False</td>\n",
       "    </tr>\n",
       "    <tr>\n",
       "      <th>1</th>\n",
       "      <td>0.0</td>\n",
       "      <td>0.0</td>\n",
       "      <td>0.0</td>\n",
       "      <td>False</td>\n",
       "      <td>False</td>\n",
       "      <td>False</td>\n",
       "      <td>False</td>\n",
       "      <td>False</td>\n",
       "      <td>False</td>\n",
       "      <td>False</td>\n",
       "    </tr>\n",
       "    <tr>\n",
       "      <th>2</th>\n",
       "      <td>0.0</td>\n",
       "      <td>0.0</td>\n",
       "      <td>0.0</td>\n",
       "      <td>False</td>\n",
       "      <td>False</td>\n",
       "      <td>False</td>\n",
       "      <td>False</td>\n",
       "      <td>False</td>\n",
       "      <td>False</td>\n",
       "      <td>False</td>\n",
       "    </tr>\n",
       "    <tr>\n",
       "      <th>3</th>\n",
       "      <td>0.0</td>\n",
       "      <td>0.0</td>\n",
       "      <td>0.0</td>\n",
       "      <td>False</td>\n",
       "      <td>False</td>\n",
       "      <td>False</td>\n",
       "      <td>False</td>\n",
       "      <td>False</td>\n",
       "      <td>False</td>\n",
       "      <td>False</td>\n",
       "    </tr>\n",
       "    <tr>\n",
       "      <th>4</th>\n",
       "      <td>0.0</td>\n",
       "      <td>0.0</td>\n",
       "      <td>0.0</td>\n",
       "      <td>False</td>\n",
       "      <td>False</td>\n",
       "      <td>False</td>\n",
       "      <td>False</td>\n",
       "      <td>False</td>\n",
       "      <td>False</td>\n",
       "      <td>False</td>\n",
       "    </tr>\n",
       "  </tbody>\n",
       "</table>\n",
       "</div>"
      ],
      "text/plain": [
       "   yesterday  today  tomorrow  guess  rain_tomorrow  correct  true_positive  \\\n",
       "0        0.0    0.0       0.0  False          False    False          False   \n",
       "1        0.0    0.0       0.0  False          False    False          False   \n",
       "2        0.0    0.0       0.0  False          False    False          False   \n",
       "3        0.0    0.0       0.0  False          False    False          False   \n",
       "4        0.0    0.0       0.0  False          False    False          False   \n",
       "\n",
       "   false_positive  true_negative  false_negative  \n",
       "0           False          False           False  \n",
       "1           False          False           False  \n",
       "2           False          False           False  \n",
       "3           False          False           False  \n",
       "4           False          False           False  "
      ]
     },
     "execution_count": 36,
     "metadata": {},
     "output_type": "execute_result"
    }
   ],
   "source": [
    "heuristic_df.head()"
   ]
  },
  {
   "cell_type": "code",
   "execution_count": 37,
   "metadata": {},
   "outputs": [],
   "source": [
    "# here is an example loop that populates the dataframe created earlier\n",
    "# with the total percip from yesterday and today\n",
    "# then the guess is set to true if rained both yesterday and today \n",
    "for z in range(numrows):\n",
    "    #start at time 2 in the data frame\n",
    "    i = z + 2\n",
    "    #pull values from the dataframe\n",
    "    yesterday = df.iloc[(i-2),1]\n",
    "    today = df.iloc[(i-1),1]\n",
    "    tomorrow = df.iloc[i,1]\n",
    "    rain_tomorrow = df.iloc[(i),1]\n",
    "    \n",
    "    heuristic_df.iat[z,0] = yesterday\n",
    "    heuristic_df.iat[z,1] = today\n",
    "    heuristic_df.iat[z,2] = tomorrow\n",
    "    heuristic_df.iat[z,3] = False # set guess default to False\n",
    "    heuristic_df.iat[z,4] = rain_tomorrow\n",
    "    \n",
    "    #example hueristic\n",
    "    if today > 0.0 and yesterday > 0.0:\n",
    "        heuristic_df.iat[z,3] = True\n",
    "        \n",
    "    if heuristic_df.iat[z,3] == heuristic_df.iat[z,4]:\n",
    "        heuristic_df.iat[z,5] = True\n",
    "        if heuristic_df.iat[z,3] == True:\n",
    "            heuristic_df.iat[z,6] = True #true positive\n",
    "        else:\n",
    "            heuristic_df.iat[z,8] = True #true negative\n",
    "    else:\n",
    "        heuristic_df.iat[z,5] = False\n",
    "        if heuristic_df.iat[z,3] == True:\n",
    "            heuristic_df.iat[z,7] = True #false positive\n",
    "        else:\n",
    "            heuristic_df.iat[z,9] = True #false negative"
   ]
  },
  {
   "cell_type": "code",
   "execution_count": 38,
   "metadata": {},
   "outputs": [
    {
     "data": {
      "text/html": [
       "<div>\n",
       "<style scoped>\n",
       "    .dataframe tbody tr th:only-of-type {\n",
       "        vertical-align: middle;\n",
       "    }\n",
       "\n",
       "    .dataframe tbody tr th {\n",
       "        vertical-align: top;\n",
       "    }\n",
       "\n",
       "    .dataframe thead th {\n",
       "        text-align: right;\n",
       "    }\n",
       "</style>\n",
       "<table border=\"1\" class=\"dataframe\">\n",
       "  <thead>\n",
       "    <tr style=\"text-align: right;\">\n",
       "      <th></th>\n",
       "      <th>yesterday</th>\n",
       "      <th>today</th>\n",
       "      <th>tomorrow</th>\n",
       "      <th>guess</th>\n",
       "      <th>rain_tomorrow</th>\n",
       "      <th>correct</th>\n",
       "      <th>true_positive</th>\n",
       "      <th>false_positive</th>\n",
       "      <th>true_negative</th>\n",
       "      <th>false_negative</th>\n",
       "    </tr>\n",
       "  </thead>\n",
       "  <tbody>\n",
       "    <tr>\n",
       "      <th>0</th>\n",
       "      <td>0.47</td>\n",
       "      <td>0.59</td>\n",
       "      <td>0.42</td>\n",
       "      <td>True</td>\n",
       "      <td>True</td>\n",
       "      <td>True</td>\n",
       "      <td>True</td>\n",
       "      <td>False</td>\n",
       "      <td>False</td>\n",
       "      <td>False</td>\n",
       "    </tr>\n",
       "    <tr>\n",
       "      <th>1</th>\n",
       "      <td>0.59</td>\n",
       "      <td>0.42</td>\n",
       "      <td>0.31</td>\n",
       "      <td>True</td>\n",
       "      <td>True</td>\n",
       "      <td>True</td>\n",
       "      <td>True</td>\n",
       "      <td>False</td>\n",
       "      <td>False</td>\n",
       "      <td>False</td>\n",
       "    </tr>\n",
       "    <tr>\n",
       "      <th>2</th>\n",
       "      <td>0.42</td>\n",
       "      <td>0.31</td>\n",
       "      <td>0.17</td>\n",
       "      <td>True</td>\n",
       "      <td>True</td>\n",
       "      <td>True</td>\n",
       "      <td>True</td>\n",
       "      <td>False</td>\n",
       "      <td>False</td>\n",
       "      <td>False</td>\n",
       "    </tr>\n",
       "    <tr>\n",
       "      <th>3</th>\n",
       "      <td>0.31</td>\n",
       "      <td>0.17</td>\n",
       "      <td>0.44</td>\n",
       "      <td>True</td>\n",
       "      <td>True</td>\n",
       "      <td>True</td>\n",
       "      <td>True</td>\n",
       "      <td>False</td>\n",
       "      <td>False</td>\n",
       "      <td>False</td>\n",
       "    </tr>\n",
       "    <tr>\n",
       "      <th>4</th>\n",
       "      <td>0.17</td>\n",
       "      <td>0.44</td>\n",
       "      <td>0.41</td>\n",
       "      <td>True</td>\n",
       "      <td>True</td>\n",
       "      <td>True</td>\n",
       "      <td>True</td>\n",
       "      <td>False</td>\n",
       "      <td>False</td>\n",
       "      <td>False</td>\n",
       "    </tr>\n",
       "  </tbody>\n",
       "</table>\n",
       "</div>"
      ],
      "text/plain": [
       "   yesterday  today  tomorrow  guess  rain_tomorrow  correct  true_positive  \\\n",
       "0       0.47   0.59      0.42   True           True     True           True   \n",
       "1       0.59   0.42      0.31   True           True     True           True   \n",
       "2       0.42   0.31      0.17   True           True     True           True   \n",
       "3       0.31   0.17      0.44   True           True     True           True   \n",
       "4       0.17   0.44      0.41   True           True     True           True   \n",
       "\n",
       "   false_positive  true_negative  false_negative  \n",
       "0           False          False           False  \n",
       "1           False          False           False  \n",
       "2           False          False           False  \n",
       "3           False          False           False  \n",
       "4           False          False           False  "
      ]
     },
     "execution_count": 38,
     "metadata": {},
     "output_type": "execute_result"
    }
   ],
   "source": [
    "heuristic_df.head()"
   ]
  },
  {
   "cell_type": "code",
   "execution_count": 39,
   "metadata": {},
   "outputs": [],
   "source": [
    "from sklearn.model_selection import train_test_split\n",
    "from sklearn.datasets import load_iris\n",
    "iris = load_iris()\n",
    "x, y = iris.data, iris.target\n",
    "import warnings\n"
   ]
  },
  {
   "cell_type": "code",
   "execution_count": 40,
   "metadata": {},
   "outputs": [],
   "source": [
    "warnings.filterwarnings(\"ignore\", category=FutureWarning)\n",
    "\n",
    "X_train, X_test, y_train, y_test = train_test_split(df, df['RAIN'], test_size=0.2,random_state=123)"
   ]
  },
  {
   "cell_type": "code",
   "execution_count": 41,
   "metadata": {},
   "outputs": [
    {
     "data": {
      "text/html": [
       "<div>\n",
       "<style scoped>\n",
       "    .dataframe tbody tr th:only-of-type {\n",
       "        vertical-align: middle;\n",
       "    }\n",
       "\n",
       "    .dataframe tbody tr th {\n",
       "        vertical-align: top;\n",
       "    }\n",
       "\n",
       "    .dataframe thead th {\n",
       "        text-align: right;\n",
       "    }\n",
       "</style>\n",
       "<table border=\"1\" class=\"dataframe\">\n",
       "  <thead>\n",
       "    <tr style=\"text-align: right;\">\n",
       "      <th></th>\n",
       "      <th>DATE</th>\n",
       "      <th>PRCP</th>\n",
       "      <th>TMAX</th>\n",
       "      <th>TMIN</th>\n",
       "      <th>RAIN</th>\n",
       "    </tr>\n",
       "  </thead>\n",
       "  <tbody>\n",
       "    <tr>\n",
       "      <th>19109</th>\n",
       "      <td>2000-04-26</td>\n",
       "      <td>0.00</td>\n",
       "      <td>62</td>\n",
       "      <td>41</td>\n",
       "      <td>False</td>\n",
       "    </tr>\n",
       "    <tr>\n",
       "      <th>13919</th>\n",
       "      <td>1986-02-09</td>\n",
       "      <td>0.00</td>\n",
       "      <td>45</td>\n",
       "      <td>29</td>\n",
       "      <td>False</td>\n",
       "    </tr>\n",
       "    <tr>\n",
       "      <th>12367</th>\n",
       "      <td>1981-11-10</td>\n",
       "      <td>0.04</td>\n",
       "      <td>60</td>\n",
       "      <td>38</td>\n",
       "      <td>True</td>\n",
       "    </tr>\n",
       "    <tr>\n",
       "      <th>15279</th>\n",
       "      <td>1989-10-31</td>\n",
       "      <td>0.00</td>\n",
       "      <td>54</td>\n",
       "      <td>42</td>\n",
       "      <td>False</td>\n",
       "    </tr>\n",
       "    <tr>\n",
       "      <th>20620</th>\n",
       "      <td>2004-06-15</td>\n",
       "      <td>0.00</td>\n",
       "      <td>69</td>\n",
       "      <td>49</td>\n",
       "      <td>False</td>\n",
       "    </tr>\n",
       "  </tbody>\n",
       "</table>\n",
       "</div>"
      ],
      "text/plain": [
       "             DATE  PRCP  TMAX  TMIN   RAIN\n",
       "19109  2000-04-26  0.00    62    41  False\n",
       "13919  1986-02-09  0.00    45    29  False\n",
       "12367  1981-11-10  0.04    60    38   True\n",
       "15279  1989-10-31  0.00    54    42  False\n",
       "20620  2004-06-15  0.00    69    49  False"
      ]
     },
     "execution_count": 41,
     "metadata": {},
     "output_type": "execute_result"
    }
   ],
   "source": [
    "X_train.head()"
   ]
  },
  {
   "cell_type": "code",
   "execution_count": 42,
   "metadata": {},
   "outputs": [
    {
     "data": {
      "text/html": [
       "<div>\n",
       "<style scoped>\n",
       "    .dataframe tbody tr th:only-of-type {\n",
       "        vertical-align: middle;\n",
       "    }\n",
       "\n",
       "    .dataframe tbody tr th {\n",
       "        vertical-align: top;\n",
       "    }\n",
       "\n",
       "    .dataframe thead th {\n",
       "        text-align: right;\n",
       "    }\n",
       "</style>\n",
       "<table border=\"1\" class=\"dataframe\">\n",
       "  <thead>\n",
       "    <tr style=\"text-align: right;\">\n",
       "      <th></th>\n",
       "      <th>DATE</th>\n",
       "      <th>PRCP</th>\n",
       "      <th>TMAX</th>\n",
       "      <th>TMIN</th>\n",
       "      <th>RAIN</th>\n",
       "    </tr>\n",
       "  </thead>\n",
       "  <tbody>\n",
       "    <tr>\n",
       "      <th>14025</th>\n",
       "      <td>1986-05-26</td>\n",
       "      <td>0.02</td>\n",
       "      <td>68</td>\n",
       "      <td>56</td>\n",
       "      <td>True</td>\n",
       "    </tr>\n",
       "    <tr>\n",
       "      <th>22055</th>\n",
       "      <td>2008-05-20</td>\n",
       "      <td>0.19</td>\n",
       "      <td>59</td>\n",
       "      <td>49</td>\n",
       "      <td>True</td>\n",
       "    </tr>\n",
       "    <tr>\n",
       "      <th>10213</th>\n",
       "      <td>1975-12-18</td>\n",
       "      <td>0.00</td>\n",
       "      <td>45</td>\n",
       "      <td>27</td>\n",
       "      <td>False</td>\n",
       "    </tr>\n",
       "    <tr>\n",
       "      <th>16935</th>\n",
       "      <td>1994-05-14</td>\n",
       "      <td>0.14</td>\n",
       "      <td>64</td>\n",
       "      <td>46</td>\n",
       "      <td>True</td>\n",
       "    </tr>\n",
       "    <tr>\n",
       "      <th>15217</th>\n",
       "      <td>1989-08-30</td>\n",
       "      <td>0.00</td>\n",
       "      <td>69</td>\n",
       "      <td>55</td>\n",
       "      <td>False</td>\n",
       "    </tr>\n",
       "  </tbody>\n",
       "</table>\n",
       "</div>"
      ],
      "text/plain": [
       "             DATE  PRCP  TMAX  TMIN   RAIN\n",
       "14025  1986-05-26  0.02    68    56   True\n",
       "22055  2008-05-20  0.19    59    49   True\n",
       "10213  1975-12-18  0.00    45    27  False\n",
       "16935  1994-05-14  0.14    64    46   True\n",
       "15217  1989-08-30  0.00    69    55  False"
      ]
     },
     "execution_count": 42,
     "metadata": {},
     "output_type": "execute_result"
    }
   ],
   "source": [
    "X_test.head()"
   ]
  },
  {
   "cell_type": "code",
   "execution_count": 43,
   "metadata": {},
   "outputs": [
    {
     "data": {
      "text/plain": [
       "19109    False\n",
       "13919    False\n",
       "12367     True\n",
       "15279    False\n",
       "20620    False\n",
       "Name: RAIN, dtype: object"
      ]
     },
     "execution_count": 43,
     "metadata": {},
     "output_type": "execute_result"
    }
   ],
   "source": [
    "y_train.head()"
   ]
  },
  {
   "cell_type": "code",
   "execution_count": 44,
   "metadata": {},
   "outputs": [
    {
     "data": {
      "text/plain": [
       "14025     True\n",
       "22055     True\n",
       "10213    False\n",
       "16935     True\n",
       "15217    False\n",
       "Name: RAIN, dtype: object"
      ]
     },
     "execution_count": 44,
     "metadata": {},
     "output_type": "execute_result"
    }
   ],
   "source": [
    "y_test.head()"
   ]
  },
  {
   "cell_type": "code",
   "execution_count": 55,
   "metadata": {},
   "outputs": [
    {
     "name": "stdout",
     "output_type": "stream",
     "text": [
      "Accuracy:\n",
      "\n",
      " False    0.460644\n",
      "True     0.339309\n",
      "Name: RAIN, dtype: float64\n"
     ]
    }
   ],
   "source": [
    "#Accuracy of train set \n",
    "TP_TN=X_train['RAIN'].value_counts()\n",
    "acc=TP_TN/numrows\n",
    "acc\n",
    "print(\"Accuracy:\\n\\n\",acc)"
   ]
  },
  {
   "cell_type": "code",
   "execution_count": 57,
   "metadata": {},
   "outputs": [
    {
     "name": "stdout",
     "output_type": "stream",
     "text": [
      "Accuracy:\n",
      "\n",
      " False    0.112685\n",
      "True     0.087322\n",
      "Name: RAIN, dtype: float64\n"
     ]
    }
   ],
   "source": [
    "#Accuracy of test set \n",
    "TP_TN=X_test['RAIN'].value_counts()\n",
    "acc=TP_TN/numrows\n",
    "acc\n",
    "print(\"Accuracy:\\n\\n\",acc)"
   ]
  },
  {
   "cell_type": "code",
   "execution_count": 62,
   "metadata": {},
   "outputs": [
    {
     "name": "stdout",
     "output_type": "stream",
     "text": [
      "Precision: 0.5723651857265413\n"
     ]
    }
   ],
   "source": [
    "# precision of train\n",
    "\n",
    "num_true_positive=X_train['TMAX'].sum()\n",
    "num_false_positive_=X_train['TMIN'].sum()\n",
    "Precision = num_true_positive/(num_true_positive+num_false_positive_)\n",
    "print(\"Precision:\", Precision)"
   ]
  },
  {
   "cell_type": "code",
   "execution_count": 63,
   "metadata": {},
   "outputs": [
    {
     "name": "stdout",
     "output_type": "stream",
     "text": [
      "Precision: 0.5716367750806455\n"
     ]
    }
   ],
   "source": [
    "# precision pf test\n",
    "num_true_positive=X_test['TMAX'].sum()\n",
    "num_false_positive_=X_test['TMIN'].sum()\n",
    "Precision = num_true_positive/(num_true_positive+num_false_positive_)\n",
    "print(\"Precision:\", Precision)"
   ]
  },
  {
   "cell_type": "code",
   "execution_count": 64,
   "metadata": {},
   "outputs": [
    {
     "name": "stdout",
     "output_type": "stream",
     "text": [
      "Recall: 0.9723757962392334\n"
     ]
    }
   ],
   "source": [
    "# recall of train set\n",
    "num_false_negative=X_train['RAIN'].sum()\n",
    "recall=num_true_positive/(num_true_positive+num_false_negative)\n",
    "print(\"Recall:\", recall)"
   ]
  },
  {
   "cell_type": "code",
   "execution_count": 65,
   "metadata": {},
   "outputs": [
    {
     "name": "stdout",
     "output_type": "stream",
     "text": [
      "Recall: 0.9927419066240268\n"
     ]
    }
   ],
   "source": [
    "num_false_negative=X_test['RAIN'].sum()\n",
    "recall=num_true_positive/(num_true_positive+num_false_negative)\n",
    "print(\"Recall:\", recall)"
   ]
  },
  {
   "cell_type": "code",
   "execution_count": 66,
   "metadata": {},
   "outputs": [
    {
     "data": {
      "text/plain": [
       "8390"
      ]
     },
     "execution_count": 66,
     "metadata": {},
     "output_type": "execute_result"
    }
   ],
   "source": [
    "import numpy as np\n",
    "\n",
    "def sse(y_true, y_pred):\n",
    "    '''returns sum of squared errors (actual vs model)'''\n",
    "    squared_errors = (y_true - y_pred) ** 2\n",
    "    return np.sum(squared_errors)\n",
    "\n",
    "\n",
    "sse(y_true=heuristic_df['rain_tomorrow'].astype('int'), y_pred=heuristic_df['guess'].astype('int'))"
   ]
  },
  {
   "cell_type": "code",
   "execution_count": 67,
   "metadata": {},
   "outputs": [
    {
     "data": {
      "text/plain": [
       "0.3283885866374418"
      ]
     },
     "execution_count": 67,
     "metadata": {},
     "output_type": "execute_result"
    }
   ],
   "source": [
    "from sklearn.metrics import mean_squared_error\n",
    "\n",
    "mean_squared_error(y_true=heuristic_df['rain_tomorrow'].astype('int'), y_pred=heuristic_df['guess'].astype('int'))\n"
   ]
  },
  {
   "cell_type": "code",
   "execution_count": 68,
   "metadata": {},
   "outputs": [
    {
     "name": "stdout",
     "output_type": "stream",
     "text": [
      "Mean:0.00       0.184292\n",
      "0.01       2.903521\n",
      "0.02       3.873089\n",
      "0.03       5.490962\n",
      "0.04       6.214699\n",
      "           ...     \n",
      "2.64    2168.930000\n",
      "3.77    2168.930000\n",
      "2.04    2168.930000\n",
      "2.06    2168.930000\n",
      "1.91    2168.930000\n",
      "Name: PRCP, Length: 198, dtype: float64 deviation1: 0.00        0.285708\n",
      "0.01             NaN\n",
      "0.02             NaN\n",
      "0.03             NaN\n",
      "0.04             NaN\n",
      "              ...   \n",
      "25546.00         NaN\n",
      "25547.00         NaN\n",
      "25548.00         NaN\n",
      "25549.00         NaN\n",
      "25550.00         NaN\n",
      "Name: PRCP, Length: 20636, dtype: float64 deviation2: 0.00        0.081629\n",
      "0.01             NaN\n",
      "0.02             NaN\n",
      "0.03             NaN\n",
      "0.04             NaN\n",
      "              ...   \n",
      "25546.00         NaN\n",
      "25547.00         NaN\n",
      "25548.00         NaN\n",
      "25549.00         NaN\n",
      "25550.00         NaN\n",
      "Name: PRCP, Length: 20636, dtype: float64\n"
     ]
    }
   ],
   "source": [
    "#Calculate the mean\n",
    "mean_PRCP=X_train['PRCP'].sum()/X_train['PRCP'].value_counts() \n",
    "deviation1=X_train['PRCP']-mean_PRCP\n",
    "deviation2=deviation1**2\n",
    "print(\"Mean:{} deviation1: {} deviation2: {}\".format(mean_PRCP,deviation1,deviation2))\n"
   ]
  },
  {
   "cell_type": "code",
   "execution_count": null,
   "metadata": {},
   "outputs": [],
   "source": []
  }
 ],
 "metadata": {
  "kernelspec": {
   "display_name": "Python 3",
   "language": "python",
   "name": "python3"
  },
  "language_info": {
   "codemirror_mode": {
    "name": "ipython",
    "version": 3
   },
   "file_extension": ".py",
   "mimetype": "text/x-python",
   "name": "python",
   "nbconvert_exporter": "python",
   "pygments_lexer": "ipython3",
   "version": "3.8.3"
  }
 },
 "nbformat": 4,
 "nbformat_minor": 4
}
