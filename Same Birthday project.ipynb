{
 "cells": [
  {
   "cell_type": "code",
   "execution_count": 19,
   "metadata": {},
   "outputs": [],
   "source": [
    "import random"
   ]
  },
  {
   "cell_type": "code",
   "execution_count": 29,
   "metadata": {},
   "outputs": [
    {
     "name": "stdout",
     "output_type": "stream",
     "text": [
      "Matching ratio for each round:  0.48\n"
     ]
    }
   ],
   "source": [
    "#for 50%\n",
    "num_people= 24 # number of people in the room\n",
    "rounds = 100   # round of matching\n",
    "matching = 0\n",
    "\n",
    "for r in range(rounds):\n",
    "    same_day ={}\n",
    "    \n",
    "    for p in range(num_people):\n",
    "        brith_day = random.randint(0,365)\n",
    "        if brith_day in same_day:\n",
    "            matching = matching +1\n",
    "            break\n",
    "        same_day[brith_day] = 1\n",
    "\n",
    "print(\"Matching ratio for each round: \",float(matching/rounds))"
   ]
  },
  {
   "cell_type": "code",
   "execution_count": 46,
   "metadata": {},
   "outputs": [
    {
     "name": "stdout",
     "output_type": "stream",
     "text": [
      "Matching ratio for each round:  0.947\n"
     ]
    }
   ],
   "source": [
    "#for 95%\n",
    "num_people= 44 # number of people in the room\n",
    "rounds = 1000   # round of matching\n",
    "matching = 0\n",
    "\n",
    "for r in range(rounds):\n",
    "    same_day ={}\n",
    "    \n",
    "    for p in range(num_people):\n",
    "        brith_day = random.randint(0,365)\n",
    "        if brith_day in same_day:\n",
    "            matching = matching +1\n",
    "            break\n",
    "        same_day[brith_day] = 1\n",
    "\n",
    "print(\"Matching ratio for each round: \",float(matching/rounds))"
   ]
  },
  {
   "cell_type": "code",
   "execution_count": 49,
   "metadata": {},
   "outputs": [
    {
     "name": "stdout",
     "output_type": "stream",
     "text": [
      "Matching ratio for each round:  0.99\n"
     ]
    }
   ],
   "source": [
    "#for 99%\n",
    "num_people= 50 # number of people in the room\n",
    "rounds = 100   # round of matching\n",
    "matching = 0\n",
    "\n",
    "for r in range(rounds):\n",
    "    same_day ={}\n",
    "    \n",
    "    for p in range(num_people):\n",
    "        brith_day = random.randint(0,365)\n",
    "        if brith_day in same_day:\n",
    "            matching = matching +1\n",
    "            break\n",
    "        same_day[brith_day] = 1\n",
    "\n",
    "print(\"Matching ratio for each round: \",float(matching/rounds))"
   ]
  }
 ],
 "metadata": {
  "kernelspec": {
   "display_name": "Python 3",
   "language": "python",
   "name": "python3"
  },
  "language_info": {
   "codemirror_mode": {
    "name": "ipython",
    "version": 3
   },
   "file_extension": ".py",
   "mimetype": "text/x-python",
   "name": "python",
   "nbconvert_exporter": "python",
   "pygments_lexer": "ipython3",
   "version": "3.8.3"
  }
 },
 "nbformat": 4,
 "nbformat_minor": 4
}
